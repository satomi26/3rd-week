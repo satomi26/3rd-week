{
 "cells": [
  {
   "cell_type": "code",
   "execution_count": 1,
   "metadata": {},
   "outputs": [],
   "source": [
    "import numpy as np\n",
    "import pandas as pd"
   ]
  },
  {
   "cell_type": "code",
   "execution_count": 3,
   "metadata": {},
   "outputs": [
    {
     "data": {
      "text/html": [
       "<div>\n",
       "<style scoped>\n",
       "    .dataframe tbody tr th:only-of-type {\n",
       "        vertical-align: middle;\n",
       "    }\n",
       "\n",
       "    .dataframe tbody tr th {\n",
       "        vertical-align: top;\n",
       "    }\n",
       "\n",
       "    .dataframe thead th {\n",
       "        text-align: right;\n",
       "    }\n",
       "</style>\n",
       "<table border=\"1\" class=\"dataframe\">\n",
       "  <thead>\n",
       "    <tr style=\"text-align: right;\">\n",
       "      <th></th>\n",
       "      <th>MovieID</th>\n",
       "      <th>Title</th>\n",
       "      <th>MPAA Rating</th>\n",
       "      <th>Budget</th>\n",
       "      <th>Gross</th>\n",
       "      <th>Release Date</th>\n",
       "      <th>Genre</th>\n",
       "      <th>Runtime</th>\n",
       "      <th>Rating</th>\n",
       "      <th>Rating Count</th>\n",
       "      <th>Summary</th>\n",
       "    </tr>\n",
       "  </thead>\n",
       "  <tbody>\n",
       "    <tr>\n",
       "      <th>0</th>\n",
       "      <td>1</td>\n",
       "      <td>Look Who's Talking</td>\n",
       "      <td>PG-13</td>\n",
       "      <td>7500000.0</td>\n",
       "      <td>2.960000e+08</td>\n",
       "      <td>1989-10-12</td>\n",
       "      <td>Romance</td>\n",
       "      <td>93.0</td>\n",
       "      <td>5.9</td>\n",
       "      <td>73638.0</td>\n",
       "      <td>After a single, career-minded woman is left on...</td>\n",
       "    </tr>\n",
       "    <tr>\n",
       "      <th>1</th>\n",
       "      <td>2</td>\n",
       "      <td>Driving Miss Daisy</td>\n",
       "      <td>PG</td>\n",
       "      <td>7500000.0</td>\n",
       "      <td>1.457933e+08</td>\n",
       "      <td>1989-12-13</td>\n",
       "      <td>Comedy</td>\n",
       "      <td>99.0</td>\n",
       "      <td>7.4</td>\n",
       "      <td>91075.0</td>\n",
       "      <td>An old Jewish woman and her African-American c...</td>\n",
       "    </tr>\n",
       "    <tr>\n",
       "      <th>2</th>\n",
       "      <td>3</td>\n",
       "      <td>Turner &amp; Hooch</td>\n",
       "      <td>PG</td>\n",
       "      <td>13000000.0</td>\n",
       "      <td>7.107992e+07</td>\n",
       "      <td>1989-07-28</td>\n",
       "      <td>Crime</td>\n",
       "      <td>100.0</td>\n",
       "      <td>7.2</td>\n",
       "      <td>91415.0</td>\n",
       "      <td>Det. Scott Turner (Tom Hanks) is an uptight, b...</td>\n",
       "    </tr>\n",
       "    <tr>\n",
       "      <th>3</th>\n",
       "      <td>4</td>\n",
       "      <td>Born on the Fourth of July</td>\n",
       "      <td>R</td>\n",
       "      <td>14000000.0</td>\n",
       "      <td>1.610017e+08</td>\n",
       "      <td>1989-12-20</td>\n",
       "      <td>War</td>\n",
       "      <td>145.0</td>\n",
       "      <td>7.2</td>\n",
       "      <td>91415.0</td>\n",
       "      <td>The biography of Ron Kovic. Paralyzed in the V...</td>\n",
       "    </tr>\n",
       "    <tr>\n",
       "      <th>4</th>\n",
       "      <td>5</td>\n",
       "      <td>Field of Dreams</td>\n",
       "      <td>PG</td>\n",
       "      <td>15000000.0</td>\n",
       "      <td>8.443162e+07</td>\n",
       "      <td>1989-04-21</td>\n",
       "      <td>Drama</td>\n",
       "      <td>107.0</td>\n",
       "      <td>7.5</td>\n",
       "      <td>101702.0</td>\n",
       "      <td>An Iowa corn farmer, hearing voices, interpret...</td>\n",
       "    </tr>\n",
       "    <tr>\n",
       "      <th>...</th>\n",
       "      <td>...</td>\n",
       "      <td>...</td>\n",
       "      <td>...</td>\n",
       "      <td>...</td>\n",
       "      <td>...</td>\n",
       "      <td>...</td>\n",
       "      <td>...</td>\n",
       "      <td>...</td>\n",
       "      <td>...</td>\n",
       "      <td>...</td>\n",
       "      <td>...</td>\n",
       "    </tr>\n",
       "    <tr>\n",
       "      <th>611</th>\n",
       "      <td>612</td>\n",
       "      <td>Toy Story 4</td>\n",
       "      <td>G</td>\n",
       "      <td>200000000.0</td>\n",
       "      <td>1.062000e+09</td>\n",
       "      <td>2019-06-11</td>\n",
       "      <td>Animation</td>\n",
       "      <td>100.0</td>\n",
       "      <td>NaN</td>\n",
       "      <td>NaN</td>\n",
       "      <td>NaN</td>\n",
       "    </tr>\n",
       "    <tr>\n",
       "      <th>612</th>\n",
       "      <td>613</td>\n",
       "      <td>Fast &amp; Furious Presents: Hobbs &amp; Shaw</td>\n",
       "      <td>PG-13</td>\n",
       "      <td>200000000.0</td>\n",
       "      <td>7.594000e+08</td>\n",
       "      <td>2019-07-13</td>\n",
       "      <td>Thriller</td>\n",
       "      <td>136.0</td>\n",
       "      <td>NaN</td>\n",
       "      <td>NaN</td>\n",
       "      <td>NaN</td>\n",
       "    </tr>\n",
       "    <tr>\n",
       "      <th>613</th>\n",
       "      <td>614</td>\n",
       "      <td>The Lion King</td>\n",
       "      <td>PG</td>\n",
       "      <td>250000000.0</td>\n",
       "      <td>1.632000e+09</td>\n",
       "      <td>2019-07-09</td>\n",
       "      <td>Drama</td>\n",
       "      <td>118.0</td>\n",
       "      <td>NaN</td>\n",
       "      <td>NaN</td>\n",
       "      <td>NaN</td>\n",
       "    </tr>\n",
       "    <tr>\n",
       "      <th>614</th>\n",
       "      <td>615</td>\n",
       "      <td>Avengers: Endgame</td>\n",
       "      <td>PG-13</td>\n",
       "      <td>356000000.0</td>\n",
       "      <td>2.796000e+09</td>\n",
       "      <td>2019-04-22</td>\n",
       "      <td>Action</td>\n",
       "      <td>181.0</td>\n",
       "      <td>NaN</td>\n",
       "      <td>NaN</td>\n",
       "      <td>NaN</td>\n",
       "    </tr>\n",
       "    <tr>\n",
       "      <th>615</th>\n",
       "      <td>0</td>\n",
       "      <td>NaN</td>\n",
       "      <td>NaN</td>\n",
       "      <td>NaN</td>\n",
       "      <td>NaN</td>\n",
       "      <td>NaN</td>\n",
       "      <td>NaN</td>\n",
       "      <td>NaN</td>\n",
       "      <td>NaN</td>\n",
       "      <td>NaN</td>\n",
       "      <td>NaN</td>\n",
       "    </tr>\n",
       "  </tbody>\n",
       "</table>\n",
       "<p>616 rows × 11 columns</p>\n",
       "</div>"
      ],
      "text/plain": [
       "     MovieID                                  Title MPAA Rating       Budget  \\\n",
       "0          1                     Look Who's Talking       PG-13    7500000.0   \n",
       "1          2                     Driving Miss Daisy          PG    7500000.0   \n",
       "2          3                         Turner & Hooch          PG   13000000.0   \n",
       "3          4             Born on the Fourth of July           R   14000000.0   \n",
       "4          5                        Field of Dreams          PG   15000000.0   \n",
       "..       ...                                    ...         ...          ...   \n",
       "611      612                            Toy Story 4           G  200000000.0   \n",
       "612      613  Fast & Furious Presents: Hobbs & Shaw       PG-13  200000000.0   \n",
       "613      614                          The Lion King          PG  250000000.0   \n",
       "614      615                      Avengers: Endgame       PG-13  356000000.0   \n",
       "615        0                                    NaN         NaN          NaN   \n",
       "\n",
       "            Gross Release Date      Genre  Runtime  Rating  Rating Count  \\\n",
       "0    2.960000e+08   1989-10-12    Romance     93.0     5.9       73638.0   \n",
       "1    1.457933e+08   1989-12-13     Comedy     99.0     7.4       91075.0   \n",
       "2    7.107992e+07   1989-07-28      Crime    100.0     7.2       91415.0   \n",
       "3    1.610017e+08   1989-12-20        War    145.0     7.2       91415.0   \n",
       "4    8.443162e+07   1989-04-21      Drama    107.0     7.5      101702.0   \n",
       "..            ...          ...        ...      ...     ...           ...   \n",
       "611  1.062000e+09   2019-06-11  Animation    100.0     NaN           NaN   \n",
       "612  7.594000e+08   2019-07-13   Thriller    136.0     NaN           NaN   \n",
       "613  1.632000e+09   2019-07-09      Drama    118.0     NaN           NaN   \n",
       "614  2.796000e+09   2019-04-22     Action    181.0     NaN           NaN   \n",
       "615           NaN          NaN        NaN      NaN     NaN           NaN   \n",
       "\n",
       "                                               Summary  \n",
       "0    After a single, career-minded woman is left on...  \n",
       "1    An old Jewish woman and her African-American c...  \n",
       "2    Det. Scott Turner (Tom Hanks) is an uptight, b...  \n",
       "3    The biography of Ron Kovic. Paralyzed in the V...  \n",
       "4    An Iowa corn farmer, hearing voices, interpret...  \n",
       "..                                                 ...  \n",
       "611                                                NaN  \n",
       "612                                                NaN  \n",
       "613                                                NaN  \n",
       "614                                                NaN  \n",
       "615                                                NaN  \n",
       "\n",
       "[616 rows x 11 columns]"
      ]
     },
     "execution_count": 3,
     "metadata": {},
     "output_type": "execute_result"
    }
   ],
   "source": [
    "df = pd.read_csv(\"movies_2.csv\")\n",
    "df"
   ]
  },
  {
   "cell_type": "code",
   "execution_count": 10,
   "metadata": {},
   "outputs": [],
   "source": [
    "df = df.rename(columns={\"MovieID\": \"movie_id\", \"Title\": \"title\",\"MPAA Rating\": \"mpaa_rating\",\"Budget\": \"budget\", \"Gross\": \"gross\", \"Release Date\": \"release_date\",\"Genre\": \"genre\",\"Runtime\": \"runtime\", \"Rating\":\"rating\", \"Rating Count\":\"rating_count\"})\n"
   ]
  },
  {
   "cell_type": "code",
   "execution_count": 11,
   "metadata": {},
   "outputs": [
    {
     "data": {
      "text/plain": [
       "<matplotlib.axes._subplots.AxesSubplot at 0x260734a0430>"
      ]
     },
     "execution_count": 11,
     "metadata": {},
     "output_type": "execute_result"
    },
    {
     "data": {
      "image/png": "[encoded data removed]",
      "text/plain": [
       "<Figure size 432x288 with 1 Axes>"
      ]
     },
     "metadata": {
      "needs_background": "light"
     },
     "output_type": "display_data"
    }
   ],
   "source": [
    "df.plot.scatter(x = 'gross', y = 'rating')"
   ]
  },
  {
   "cell_type": "code",
   "execution_count": 13,
   "metadata": {},
   "outputs": [
    {
     "data": {
      "text/plain": [
       "<matplotlib.axes._subplots.AxesSubplot at 0x260736e6df0>"
      ]
     },
     "execution_count": 13,
     "metadata": {},
     "output_type": "execute_result"
    },
    {
     "data": {
      "image/png": "[encoded data removed]",
      "text/plain": [
       "<Figure size 432x288 with 1 Axes>"
      ]
     },
     "metadata": {
      "needs_background": "light"
     },
     "output_type": "display_data"
    }
   ],
   "source": [
    "df.plot.scatter(x = \"budget\", y = \"gross\")"
   ]
  },
  {
   "cell_type": "code",
   "execution_count": 14,
   "metadata": {},
   "outputs": [
    {
     "data": {
      "text/plain": [
       "<matplotlib.axes._subplots.AxesSubplot at 0x26073734ac0>"
      ]
     },
     "execution_count": 14,
     "metadata": {},
     "output_type": "execute_result"
    },
    {
     "data": {
      "image/png": "[encoded data removed]",
      "text/plain": [
       "<Figure size 432x288 with 1 Axes>"
      ]
     },
     "metadata": {
      "needs_background": "light"
     },
     "output_type": "display_data"
    }
   ],
   "source": [
    "df.plot.scatter(x = \"runtime\", y = \"rating\")"
   ]
  }
 ],
 "metadata": {
  "kernelspec": {
   "display_name": "Python 3.8.3 ('base')",
   "language": "python",
   "name": "python3"
  },
  "language_info": {
   "codemirror_mode": {
    "name": "ipython",
    "version": 3
   },
   "file_extension": ".py",
   "mimetype": "text/x-python",
   "name": "python",
   "nbconvert_exporter": "python",
   "pygments_lexer": "ipython3",
   "version": "3.8.3"
  },
  "orig_nbformat": 4,
  "vscode": {
   "interpreter": {
    "hash": "4bb7f29109c0fac8f560dcf68de49b13036b320e37f03d51f7f96ea5790b86a9"
   }
  }
 },
 "nbformat": 4,
 "nbformat_minor": 2
}
